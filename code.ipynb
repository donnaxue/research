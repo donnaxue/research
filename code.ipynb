{
 "cells": [
  {
   "cell_type": "code",
   "execution_count": 16,
   "metadata": {},
   "outputs": [
    {
     "name": "stdout",
     "output_type": "stream",
     "text": [
      "        City   State Victim Sex  Victim Age                    Victim Race  \\\n",
      "0  Anchorage  Alaska       Male          14  Native American/Alaska Native   \n",
      "1  Anchorage  Alaska       Male          43                          White   \n",
      "2  Anchorage  Alaska     Female          30  Native American/Alaska Native   \n",
      "3  Anchorage  Alaska       Male          43                          White   \n",
      "4  Anchorage  Alaska     Female          30  Native American/Alaska Native   \n",
      "\n",
      "  Crime Solved  \n",
      "0          Yes  \n",
      "1          Yes  \n",
      "2           No  \n",
      "3          Yes  \n",
      "4           No  \n"
     ]
    }
   ],
   "source": [
    "import pandas as pd \n",
    "\n",
    "df = pd.read_csv(\"training.csv\")\n",
    "\n",
    "print(df.head(5))"
   ]
  },
  {
   "cell_type": "code",
   "execution_count": 17,
   "metadata": {},
   "outputs": [
    {
     "name": "stdout",
     "output_type": "stream",
     "text": [
      "<class 'pandas.core.frame.DataFrame'>\n",
      "RangeIndex: 637480 entries, 0 to 637479\n",
      "Data columns (total 6 columns):\n",
      " #   Column        Non-Null Count   Dtype \n",
      "---  ------        --------------   ----- \n",
      " 0   City          637480 non-null  object\n",
      " 1   State         637480 non-null  object\n",
      " 2   Victim Sex    637480 non-null  object\n",
      " 3   Victim Age    637480 non-null  int64 \n",
      " 4   Victim Race   637480 non-null  object\n",
      " 5   Crime Solved  637480 non-null  object\n",
      "dtypes: int64(1), object(5)\n",
      "memory usage: 29.2+ MB\n"
     ]
    }
   ],
   "source": [
    "df.info()\n",
    "# .info() provides the essential details about your dataset, such as the number of rows and columns, \n",
    "# the number of non-null values, what type of data is in each column, and how much memory your DataFrame is using"
   ]
  },
  {
   "cell_type": "code",
   "execution_count": 18,
   "metadata": {},
   "outputs": [
    {
     "data": {
      "text/html": [
       "<div>\n",
       "<style scoped>\n",
       "    .dataframe tbody tr th:only-of-type {\n",
       "        vertical-align: middle;\n",
       "    }\n",
       "\n",
       "    .dataframe tbody tr th {\n",
       "        vertical-align: top;\n",
       "    }\n",
       "\n",
       "    .dataframe thead th {\n",
       "        text-align: right;\n",
       "    }\n",
       "</style>\n",
       "<table border=\"1\" class=\"dataframe\">\n",
       "  <thead>\n",
       "    <tr style=\"text-align: right;\">\n",
       "      <th></th>\n",
       "      <th>Victim Age</th>\n",
       "    </tr>\n",
       "  </thead>\n",
       "  <tbody>\n",
       "    <tr>\n",
       "      <th>Victim Age</th>\n",
       "      <td>1.0</td>\n",
       "    </tr>\n",
       "  </tbody>\n",
       "</table>\n",
       "</div>"
      ],
      "text/plain": [
       "            Victim Age\n",
       "Victim Age         1.0"
      ]
     },
     "execution_count": 18,
     "metadata": {},
     "output_type": "execute_result"
    }
   ],
   "source": [
    "df.corr()\n",
    "# By using the correlation method .corr() we can generate the relationship between each continuous variable"
   ]
  },
  {
   "cell_type": "code",
   "execution_count": 19,
   "metadata": {},
   "outputs": [
    {
     "name": "stdout",
     "output_type": "stream",
     "text": [
      "        City   State Victim Sex  Victim Age                    Victim Race  \\\n",
      "0  Anchorage  Alaska       Male          14  Native American/Alaska Native   \n",
      "1  Anchorage  Alaska       Male          43                          White   \n",
      "3  Anchorage  Alaska       Male          43                          White   \n",
      "5  Anchorage  Alaska       Male          30                          White   \n",
      "6  Anchorage  Alaska     Female          42  Native American/Alaska Native   \n",
      "\n",
      "  Crime Solved  \n",
      "0          Yes  \n",
      "1          Yes  \n",
      "3          Yes  \n",
      "5          Yes  \n",
      "6          Yes  \n"
     ]
    }
   ],
   "source": [
    "print(df[df['Crime Solved'] == \"Yes\"].head(5))  #looking at solved crimes only (5 since full file is too large to show)"
   ]
  },
  {
   "cell_type": "code",
   "execution_count": 20,
   "metadata": {},
   "outputs": [
    {
     "data": {
      "image/png": "[encoded data removed]",
      "text/plain": [
       "<Figure size 720x576 with 1 Axes>"
      ]
     },
     "metadata": {
      "needs_background": "light"
     },
     "output_type": "display_data"
    }
   ],
   "source": [
    "import matplotlib.pyplot as plt\n",
    "plt.rcParams.update({'font.size': 20, 'figure.figsize': (10, 8)}) # set font and plot size to be larger\n",
    "df.plot(kind='scatter', x='Victim Age', y='Crime Solved', title='Solvability');"
   ]
  },
  {
   "cell_type": "code",
   "execution_count": null,
   "metadata": {},
   "outputs": [],
   "source": [
    "# I discovered anomalies that existed in the variable 'Victim Age'. \n",
    "# There were 974 instances where the Victim Age was recorded as 998. \n",
    "# This represents unsolved crimes (or unidentified victim with identified perp) so I took it out for the training set \n",
    "\n",
    "# The scatter plot didn't help much \n"
   ]
  }
 ],
 "metadata": {
  "kernelspec": {
   "display_name": "Python 3",
   "language": "python",
   "name": "python3"
  },
  "language_info": {
   "codemirror_mode": {
    "name": "ipython",
    "version": 3
   },
   "file_extension": ".py",
   "mimetype": "text/x-python",
   "name": "python",
   "nbconvert_exporter": "python",
   "pygments_lexer": "ipython3",
   "version": "3.7.6"
  }
 },
 "nbformat": 4,
 "nbformat_minor": 4
}
